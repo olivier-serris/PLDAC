{
 "cells": [
  {
   "cell_type": "code",
   "execution_count": 218,
   "metadata": {},
   "outputs": [],
   "source": [
    "import numpy as np\n",
    "import math\n",
    "import pprint as pp\n",
    "from scipy import *\n",
    "from scipy.sparse import *"
   ]
  },
  {
   "cell_type": "markdown",
   "metadata": {},
   "source": [
    "## Generation de graphes"
   ]
  },
  {
   "cell_type": "code",
   "execution_count": 219,
   "metadata": {},
   "outputs": [
    {
     "name": "stdout",
     "output_type": "stream",
     "text": [
      "Handmade Graph\n",
      "  (0, 1)\t0.5\n",
      "  (0, 2)\t0.5\n",
      "  (1, 3)\t0.6\n",
      "  (2, 3)\t0.4\n",
      "  (2, 4)\t0.6\n",
      "Random Graph\n",
      "  (0, 1)\t0.35793808\n",
      "  (0, 2)\t0.9866501\n",
      "  (0, 3)\t0.013221352\n",
      "  (0, 4)\t0.1828696\n",
      "  (0, 5)\t0.03427853\n",
      "  (0, 6)\t0.38070202\n",
      "  (1, 0)\t0.8288135\n",
      "  (1, 2)\t0.055521414\n",
      "  (1, 3)\t0.21423219\n",
      "  (1, 4)\t0.77184093\n",
      "  (1, 5)\t0.112766765\n",
      "  (1, 6)\t0.0021552218\n",
      "  (2, 0)\t0.18658401\n",
      "  (2, 1)\t0.18757546\n",
      "  (2, 3)\t0.2970758\n",
      "  (2, 4)\t0.35188803\n",
      "  (2, 5)\t0.8878879\n",
      "  (2, 6)\t0.068491265\n",
      "  (3, 0)\t0.8192144\n",
      "  (3, 1)\t0.48997146\n",
      "  (3, 2)\t0.01632727\n",
      "  (3, 4)\t0.26126522\n",
      "  (3, 5)\t0.40720692\n",
      "  (3, 6)\t0.94067585\n",
      "  (4, 0)\t0.5607623\n",
      "  (4, 1)\t0.31207532\n",
      "  (4, 2)\t0.32916886\n",
      "  (4, 3)\t0.19208989\n",
      "  (4, 5)\t0.21371375\n",
      "  (4, 6)\t0.54073435\n",
      "  (5, 0)\t0.22994892\n",
      "  (5, 1)\t0.4682285\n",
      "  (5, 2)\t0.7443926\n",
      "  (5, 3)\t0.20502649\n",
      "  (5, 4)\t0.87337327\n",
      "  (5, 6)\t0.60775065\n",
      "  (6, 0)\t0.33565366\n",
      "  (6, 1)\t0.7427652\n",
      "  (6, 2)\t0.5562697\n",
      "  (6, 3)\t0.3382322\n",
      "  (6, 4)\t0.17150491\n",
      "  (6, 5)\t0.7333921\n"
     ]
    }
   ],
   "source": [
    "handmadeGraph1 = {1: {2:0.5,3:0.5},\n",
    "                 2: {4:0.6},\n",
    "                 3: {4:0.4,5:0.6},\n",
    "                 4: {},\n",
    "                 5: {},\n",
    "                }\n",
    "\n",
    "handmadeGraph=dok_matrix((7,7),dtype=float32)\n",
    "handmadeGraph[0,1] =0.5\n",
    "handmadeGraph[0,2] =0.5\n",
    "handmadeGraph[1,3] =0.6\n",
    "handmadeGraph[2,3] =0.4\n",
    "handmadeGraph[2,4] =0.6\n",
    "\n",
    "print(\"Handmade Graph\")\n",
    "print(handmadeGraph)\n",
    "\n",
    "\n",
    "nodes = np.arange(handmadeGraph.shape[0])\n",
    "\n",
    "def randomGraph(nodes):\n",
    "    m=len(nodes)\n",
    "    graph = dok_matrix((m,m),dtype=float32)\n",
    "    for i in range(m):\n",
    "        for j in range(m):\n",
    "            if(i!=j):\n",
    "                graph[i,j]=np.random.rand()\n",
    "    return graph\n",
    "print(\"Random Graph\")\n",
    "print(randomGraph(nodes))"
   ]
  },
  {
   "cell_type": "markdown",
   "metadata": {},
   "source": [
    "## Inference \n",
    "Generation de cascades"
   ]
  },
  {
   "cell_type": "code",
   "execution_count": 220,
   "metadata": {},
   "outputs": [],
   "source": [
    "\n",
    "def genCascade(graph,startNode,startTime=0):\n",
    "    ''' Receive graph and starting infected node generate a cascade \n",
    "        Args\n",
    "            graph(node to child representation)\n",
    "            cascade {node : time} \n",
    "    '''\n",
    "    cascade = {startNode : startTime}\n",
    "    lastInfected = [startNode]\n",
    "    infected_next = {}\n",
    "    time = startTime+1\n",
    "    while len(lastInfected)> 0:\n",
    "        for infected in lastInfected:\n",
    "            for (_,child),pct in graph[infected,:].items():\n",
    "                if (child not in cascade) and (child not in infected_next):\n",
    "                    if (np.random.rand()<pct):\n",
    "                        infected_next[child] = time\n",
    "        cascade.update(infected_next)\n",
    "        lastInfected = list(infected_next.keys())\n",
    "        infected_next = {}\n",
    "        time +=1\n",
    "        \n",
    "    return cascade"
   ]
  },
  {
   "cell_type": "code",
   "execution_count": 221,
   "metadata": {},
   "outputs": [
    {
     "name": "stdout",
     "output_type": "stream",
     "text": [
      "[{0: 0, 1: 1, 2: 1, 4: 2}, {0: 0, 1: 1, 2: 1}, {0: 0, 1: 1, 2: 1, 3: 2, 4: 2}]\n"
     ]
    }
   ],
   "source": [
    "nbCascades = 200\n",
    "cascades = [genCascade(handmadeGraph,0) for i in range(nbCascades)]\n",
    "pp.pprint(cascades[:3])"
   ]
  },
  {
   "cell_type": "markdown",
   "metadata": {},
   "source": [
    "## Independant cascades apprentissage\n"
   ]
  },
  {
   "cell_type": "markdown",
   "metadata": {},
   "source": [
    "### 2008 Saito\n",
    "Les temps d'infections contiguë <br>\n",
    "$D(i)$  all newly infected at time $i$  <br>\n",
    "$D = D(0) \\cup D(1) \\cup ... \\cup D(n)$\n",
    "#### Maximimum likelyhood expectation\n",
    "Etapes : \n",
    "1. On donne une première estimation des arêtes du graph : $k_{u,v}$ <br>\n",
    "- On calcule $P_{w}$ en fonction de $k_{u,v}$\n",
    "- On calcule par ML $k_{u,v}$ en fonction de $P_{w}$\n",
    "- Retour à l'étape 2 jusqu'à convergence\n"
   ]
  },
  {
   "cell_type": "code",
   "execution_count": 222,
   "metadata": {},
   "outputs": [
    {
     "name": "stdout",
     "output_type": "stream",
     "text": [
      "[{0: 0, 1: 1, 2: 1, 4: 2}, {0: 0, 1: 1, 2: 1}] \n",
      " [[[0], [1, 2], [4]], [[0], [1, 2]]]\n"
     ]
    }
   ],
   "source": [
    "def cascade_repr(cascade):\n",
    "    ''' Transforme une cascade en list ayant pour indice \n",
    "        le temps d'infection t et pour contenu une list contenant les noeuds infectés au temps t'''\n",
    "    \n",
    "    maxT  = max(cascade.values())+1\n",
    "    Ds = [[] for i in range(maxT)]\n",
    "    for (n,t) in cascade.items():\n",
    "        Ds[t].append(n)\n",
    "    return Ds\n",
    "D = [cascade_repr(c) for c in cascades]\n",
    "print(cascades[:2],'\\n',D[:2])"
   ]
  },
  {
   "cell_type": "code",
   "execution_count": 223,
   "metadata": {},
   "outputs": [],
   "source": [
    "def nodes_in_Ds(Ds):\n",
    "    uniques = []\n",
    "    for nodes in Ds : \n",
    "        for n in nodes : \n",
    "            uniques.append(n)\n",
    "    return uniques"
   ]
  },
  {
   "cell_type": "code",
   "execution_count": 224,
   "metadata": {},
   "outputs": [],
   "source": [
    "\n",
    "def P_sw(g,Ds,w):\n",
    "    ''' Vraisemblance de l infection d un noeud sachant le graphe \n",
    "    et les noeuds acivés à l'etape precedente '''\n",
    "    not_activated = 1\n",
    "    t = None\n",
    "    for i,nodes in enumerate(Ds):\n",
    "        if (w in nodes):\n",
    "            t = i\n",
    "    if (t == 0): # si le noeud est le premier\n",
    "        return 1\n",
    "    if (t is None): # si le noeud n'est pas dans l'episode de diffusion\n",
    "        raise Exception(f\"node {w} is not in diff episode : {Ds} \")\n",
    "    else :  # si le noeud est dans l'épisode de diffusion\n",
    "        return 1 - np.prod ([1-g[parent,w] for parent in Ds[t-1]])"
   ]
  },
  {
   "cell_type": "code",
   "execution_count": 225,
   "metadata": {},
   "outputs": [],
   "source": [
    "def Expectation(g,D):\n",
    "    ''' Calcule l'ensemble des P_ws \n",
    "        P_ws[idD][node]->proba'''\n",
    "    p_sw = [{n:P_sw(g,Ds,n) for n in nodes_in_Ds(Ds)} for Ds in D]\n",
    "    return p_sw"
   ]
  },
  {
   "cell_type": "code",
   "execution_count": 226,
   "metadata": {},
   "outputs": [],
   "source": [
    "def D_plus_uv_id(D,u,v):\n",
    "    ''' pour chaque couples u,v renvoit l'ensemble des \n",
    "    Ds (episode infections) ou u precede v'''\n",
    "    D_plus = []\n",
    "    for i,Ds in enumerate(D): \n",
    "        for t in range(1,len(Ds)):\n",
    "            if (u in Ds[t-1] and v in Ds[t]):\n",
    "                D_plus.append(i)\n",
    "                break\n",
    "    return D_plus\n",
    "\n",
    "def D_minus_uv_len(D,u,v):\n",
    "    '''Pour chaque couple u,v renvoit le cardinal de l'ensemble des \n",
    "    Ds(episode infection) ou u est present mais v ne le suit pas'''\n",
    "    D_minus_len=0\n",
    "    for Ds in D : \n",
    "        for t in range(1,len(Ds)):\n",
    "            if (u in Ds[t-1] and v not in Ds[t]):\n",
    "                D_minus_len+=1\n",
    "                break\n",
    "        if (u in Ds[-1]):\n",
    "            D_minus_len+=1\n",
    "    return D_minus_len"
   ]
  },
  {
   "cell_type": "code",
   "execution_count": 227,
   "metadata": {},
   "outputs": [],
   "source": [
    "def Maximisation_uv(g,D_plus_id,Dminus_len,p_sw,u,v):\n",
    "    '''Calcule les nouveaux paramètre pour l'arete u,v '''\n",
    "    if ((len(D_plus_id[u][v])+Dminus_len[u][v]) == 0):\n",
    "        raise Exception(f\"{u}-{v} Division zero\")\n",
    "    return (1/(len(D_plus_id[u][v])+Dminus_len[u][v])) *sum([g[u,v]/p_sw[i][v] for i in D_plus_id[u][v]])\n",
    "\n",
    "\n",
    "def Maximisation(g,D_plus_id,Dminus_len,p_sw):\n",
    "    ''' Calcule les nouveaux paramètres pour le graphe'''\n",
    "    gprime = dok_matrix(g.shape,dtype=float32)\n",
    "    for u,v in g.keys():\n",
    "        if u != v:\n",
    "            gprime[u,v] = Maximisation_uv(g,D_plus_id,Dminus_len,p_sw,u,v)\n",
    "    return gprime\n"
   ]
  },
  {
   "cell_type": "code",
   "execution_count": 228,
   "metadata": {},
   "outputs": [
    {
     "name": "stdout",
     "output_type": "stream",
     "text": [
      "{0, 1, 2, 3, 4}\n",
      "  (0, 1)\t0.46\n",
      "  (0, 2)\t0.54\n",
      "  (1, 3)\t0.5957176\n",
      "  (1, 4)\t4.4472476e-27\n",
      "  (2, 3)\t0.41914776\n",
      "  (2, 4)\t0.5740741\n"
     ]
    }
   ],
   "source": [
    "def EM_IC(D,nodes):\n",
    "        # initalisation\n",
    "    g = randomGraph(nodes)    \n",
    "    p_sw = None\n",
    "    D_plus_id =   {v:{u:D_plus_uv_id(D,v,u) for u in nodes} for v in nodes}\n",
    "    D_minus_len = {v:{u:D_minus_uv_len(D,v,u)for u in nodes} for v in nodes}\n",
    "    for i in range(100):\n",
    "        p_sw = Expectation(g,D)\n",
    "        g = Maximisation(g,D_plus_id,D_minus_len,p_sw)\n",
    "    return g\n",
    "\n",
    "nodes = set()\n",
    "for c in cascades:\n",
    "    nodes.update(c.keys())\n",
    "print(nodes)\n",
    "\n",
    "D = [cascade_repr(c) for c in cascades]\n",
    "finalGraph = EM_IC(D,nodes)\n",
    "print(finalGraph)"
   ]
  },
  {
   "cell_type": "markdown",
   "metadata": {},
   "source": [
    "### Methode 2\n",
    "Les temps d'infections non contiguë : \n",
    "Un noeud peut désorais être infecté non seulement par ceux qui ont été infecté"
   ]
  },
  {
   "cell_type": "code",
   "execution_count": 229,
   "metadata": {},
   "outputs": [],
   "source": [
    "def P_sw2(g,Ds,w):\n",
    "    ''' Vraisemblance de l infection d un noeud sachant le graphe \n",
    "    et les tous noeuds précedemment acivés '''\n",
    "    not_activated = 1\n",
    "    t = None\n",
    "    for i,nodes in enumerate(Ds):\n",
    "        if (w in nodes):\n",
    "            t = i\n",
    "    if (t == 0): # si le noeud est le premier\n",
    "        return 1\n",
    "    if (t is None): # si le noeud n'est pas dans l'episode de diffusion\n",
    "        raise Exception(f\"node {w} is not in diff episode : {Ds} \")\n",
    "    else :  # si le noeud est dans l'épisode de diffusion\n",
    "        preceding_nodes = [] # on regroupe les noeuds des épisodes précedents\n",
    "        for nodes in Ds[:t]:\n",
    "            for n in nodes : \n",
    "                preceding_nodes.append(n)\n",
    "        \n",
    "        return 1 - np.prod ([1-g[parent,w] for parent in preceding_nodes])"
   ]
  },
  {
   "cell_type": "code",
   "execution_count": 230,
   "metadata": {},
   "outputs": [],
   "source": [
    "def Expectation2(g,D):\n",
    "    ''' Calcule l'ensemble des P_ws \n",
    "        P_ws[idD][node]->proba'''\n",
    "    p_sw = [{n:P_sw2(g,Ds,n) for n in nodes_in_Ds(Ds)} for Ds in D]\n",
    "    return p_sw"
   ]
  },
  {
   "cell_type": "code",
   "execution_count": 231,
   "metadata": {},
   "outputs": [],
   "source": [
    "def D_plus_uv_id2(D,u,v):\n",
    "    ''' Pour chaque couples u,v renvoit l'ensemble des \n",
    "        Ds (episode infections) ou t_u < t_v'''\n",
    "    D_plus = []\n",
    "    \n",
    "    for i,Ds in enumerate(D) : \n",
    "        preceding_nodes = []\n",
    "        for t in range(0,len(Ds)):\n",
    "            if (v in Ds[t]):\n",
    "                if (u in preceding_nodes):\n",
    "                    D_plus.append(i)\n",
    "                    break\n",
    "            else : \n",
    "                preceding_nodes +=Ds[t]\n",
    "    return D_plus\n",
    "\n",
    "def D_minus_uv2_len(D,u,v):\n",
    "    '''Pour chaque couple u,v renvoit l'ensemble des \n",
    "    Ds(episode infection) ou u est present et non(t_u < t_v)'''\n",
    "    D_minus_len = 0\n",
    "    for Ds in D : \n",
    "        u_in_Ds = False\n",
    "        v_in_Ds = False\n",
    "        for t in range(0,len(Ds)):\n",
    "            if (u in Ds[t]):\n",
    "                u_in_Ds = True\n",
    "            if (u_in_Ds and v in Ds[t]):\n",
    "                v_in_Ds = True\n",
    "                break\n",
    "        if (u_in_Ds and not v_in_Ds):\n",
    "            D_minus_len+=1\n",
    "    return D_minus_len"
   ]
  },
  {
   "cell_type": "code",
   "execution_count": 232,
   "metadata": {},
   "outputs": [
    {
     "name": "stdout",
     "output_type": "stream",
     "text": [
      "  (0, 1)\t0.46\n",
      "  (0, 2)\t0.54\n",
      "  (0, 3)\t2.848232e-13\n",
      "  (0, 4)\t1.4095633e-27\n",
      "  (1, 3)\t0.5957176\n",
      "  (1, 4)\t4.2353156e-27\n",
      "  (2, 3)\t0.41914776\n",
      "  (2, 4)\t0.5740741\n"
     ]
    }
   ],
   "source": [
    "def EM_IC_2(D,nodes):\n",
    "    g = randomGraph(nodes)    \n",
    "    p_sw = None\n",
    "    D_plus_id =   {v:{u:D_plus_uv_id2(D,v,u) for u in nodes} for v in nodes}\n",
    "    D_minus_len = {v:{u:D_minus_uv2_len(D,v,u)for u in nodes} for v in nodes}\n",
    "    \n",
    "    for i in range(100):\n",
    "        p_sw = Expectation2(g,D)\n",
    "        g = Maximisation(g,D_plus_id,D_minus_len,p_sw)\n",
    "    return g\n",
    "\n",
    "D = [cascade_repr(c) for c in cascades]\n",
    "finalGraph = EM_IC_2(D,nodes)\n",
    "print(finalGraph)"
   ]
  },
  {
   "cell_type": "markdown",
   "metadata": {},
   "source": [
    "## Evaluation"
   ]
  },
  {
   "cell_type": "markdown",
   "metadata": {},
   "source": [
    "On va évaluer les modèles par MeanAveragePrecision (MAP): <br>\n",
    "On peut caculer $AP$ pour un épisode ($Ds$) en particulier : <br><br>\n",
    "$ AP(Ds) =  \\sum_{i=1}^{|U^{Ds}|} \\frac{ |\\{ U_1^{Ds},...,U_i^{Ds} \\} \\cap Ds |}{i}  dx$ <br>\n",
    "$ AP(Ds) = \\sum_{i=1}^{|U^{Ds}|} \\frac{TruePositive}{TruePositive+FalseNegative}dx$ <br><br>\n",
    "$ dx = recall(i) -recall(i-1) $<br>\n",
    "<br>\n",
    "$ MAP = \\frac{1}{D}\\sum_{Ds\\in |D|} AP(Ds)$"
   ]
  },
  {
   "cell_type": "markdown",
   "metadata": {},
   "source": [
    "On va d'abord calculer les probabilité d'infection d'un noeud connaissant la source \n",
    "par génération d'épisodes : "
   ]
  },
  {
   "cell_type": "code",
   "execution_count": 233,
   "metadata": {},
   "outputs": [],
   "source": [
    "def Pws_gs(graph,source,nbEpisode=100):\n",
    "    ''' Calcule la probabilité qu'un noeud soit infecté connaissant \n",
    "        une source et un graph de diffusion\n",
    "        On calcule par moyenne sur echantionnage d'episodes d'infections '''\n",
    "    proba_infected = {n:0 for n in range(graph.shape[0])}\n",
    "    for i in range(nbEpisode):\n",
    "        c = genCascade(graph,source)\n",
    "        for node in c : \n",
    "            proba_infected[node]+=1/nbEpisode\n",
    "    return proba_infected"
   ]
  },
  {
   "cell_type": "code",
   "execution_count": 234,
   "metadata": {},
   "outputs": [],
   "source": [
    "def AP(Ds,graph):\n",
    "    '''Average Precision pour un episode Ds '''\n",
    "    pws_gs =Pws_gs(graph,Ds[0][0])\n",
    "    U_d = sorted(pws_gs,key=pws_gs.get,reverse=True) # sort par ordre decroissant\n",
    "    ap = 0\n",
    "    DsNodeSet = set(nodes_in_Ds(Ds)) # noeuds faisant partie de l'episode d'infection Ds\n",
    "    \n",
    "        # calcul des points de precision et de recall : \n",
    "    precision = np.ones((len(U_d)+1))\n",
    "    recall = np.zeros((len(U_d)+1))\n",
    "    for i in range(1,len(precision)):\n",
    "        tp = len(DsNodeSet.intersection(U_d[:i])) # TruePositive\n",
    "        precision[i] = tp/i\n",
    "        recall[i] = tp/len(DsNodeSet)\n",
    "        \n",
    "        # smooth precision curve\n",
    "    for i in range(len(precision)-2,-1,-1):\n",
    "        precision[i] = max(precision[i],precision[i+1])\n",
    "    \n",
    "    ap = 0\n",
    "    for i in range(1,len(precision)):\n",
    "        dx = recall[i]-recall[i-1]\n",
    "        ap+= precision[i]* dx\n",
    "\n",
    "    return ap\n",
    "\n",
    "def MAP(D,graph):\n",
    "    return sum([AP(Ds,graph)for Ds in D])/len(D)    "
   ]
  },
  {
   "cell_type": "code",
   "execution_count": 237,
   "metadata": {},
   "outputs": [
    {
     "name": "stdout",
     "output_type": "stream",
     "text": [
      "original  graph MAP score :  0.9303888888888889\n",
      "inference graph MAP score :  0.9361944444444444\n"
     ]
    }
   ],
   "source": [
    "print(\"original  graph MAP score : \",MAP(D,handmadeGraph))\n",
    "print(\"inference graph MAP score : \",MAP(D,finalGraph))"
   ]
  },
  {
   "cell_type": "code",
   "execution_count": null,
   "metadata": {},
   "outputs": [],
   "source": []
  }
 ],
 "metadata": {
  "kernelspec": {
   "display_name": "Python 3",
   "language": "python",
   "name": "python3"
  },
  "language_info": {
   "codemirror_mode": {
    "name": "ipython",
    "version": 3
   },
   "file_extension": ".py",
   "mimetype": "text/x-python",
   "name": "python",
   "nbconvert_exporter": "python",
   "pygments_lexer": "ipython3",
   "version": "3.7.4"
  }
 },
 "nbformat": 4,
 "nbformat_minor": 2
}
