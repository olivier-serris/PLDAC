{
 "cells": [
  {
   "cell_type": "code",
   "execution_count": 181,
   "metadata": {},
   "outputs": [],
   "source": [
    "import numpy as np\n",
    "import math\n",
    "import pprint as pp\n",
    "from scipy import *\n",
    "from scipy.sparse import *"
   ]
  },
  {
   "cell_type": "markdown",
   "metadata": {},
   "source": [
    "## Generation de graphes"
   ]
  },
  {
   "cell_type": "code",
   "execution_count": 182,
   "metadata": {},
   "outputs": [
    {
     "name": "stdout",
     "output_type": "stream",
     "text": [
      "Handmade Graph\n",
      "  (0, 1)\t0.5\n",
      "  (0, 2)\t0.5\n",
      "  (1, 3)\t0.6\n",
      "  (2, 3)\t0.4\n",
      "  (2, 4)\t0.6\n",
      "Random Graph\n",
      "  (0, 1)\t0.03156902\n",
      "  (0, 2)\t0.49405158\n",
      "  (0, 3)\t0.6980423\n",
      "  (0, 4)\t0.33177012\n",
      "  (0, 5)\t0.026152728\n",
      "  (0, 6)\t0.8809852\n",
      "  (1, 0)\t0.5689927\n",
      "  (1, 2)\t0.49533373\n",
      "  (1, 3)\t0.4199267\n",
      "  (1, 4)\t0.54160166\n",
      "  (1, 5)\t0.5550246\n",
      "  (1, 6)\t0.15587775\n",
      "  (2, 0)\t0.3220729\n",
      "  (2, 1)\t0.66631955\n",
      "  (2, 3)\t0.32078075\n",
      "  (2, 4)\t0.22548972\n",
      "  (2, 5)\t0.26092488\n",
      "  (2, 6)\t0.6807767\n",
      "  (3, 0)\t0.4706855\n",
      "  (3, 1)\t0.51292473\n",
      "  (3, 2)\t0.39657506\n",
      "  (3, 4)\t0.9988955\n",
      "  (3, 5)\t0.8106461\n",
      "  (3, 6)\t0.73198074\n",
      "  (4, 0)\t0.76005745\n",
      "  (4, 1)\t0.48004043\n",
      "  (4, 2)\t0.86843073\n",
      "  (4, 3)\t0.0057362984\n",
      "  (4, 5)\t0.42348614\n",
      "  (4, 6)\t0.98618335\n",
      "  (5, 0)\t0.073831804\n",
      "  (5, 1)\t0.0012110415\n",
      "  (5, 2)\t0.26615423\n",
      "  (5, 3)\t0.40700644\n",
      "  (5, 4)\t0.41676894\n",
      "  (5, 6)\t0.62926596\n",
      "  (6, 0)\t0.03957735\n",
      "  (6, 1)\t0.45346314\n",
      "  (6, 2)\t0.4625029\n",
      "  (6, 3)\t0.9781842\n",
      "  (6, 4)\t0.29001147\n",
      "  (6, 5)\t0.59078664\n"
     ]
    }
   ],
   "source": [
    "handmadeGraph1 = {1: {2:0.5,3:0.5},\n",
    "                 2: {4:0.6},\n",
    "                 3: {4:0.4,5:0.6},\n",
    "                 4: {},\n",
    "                 5: {},\n",
    "                }\n",
    "\n",
    "handmadeGraph=dok_matrix((7,7),dtype=float32)\n",
    "handmadeGraph[0,1] =0.5\n",
    "handmadeGraph[0,2] =0.5\n",
    "handmadeGraph[1,3] =0.6\n",
    "handmadeGraph[2,3] =0.4\n",
    "handmadeGraph[2,4] =0.6\n",
    "\n",
    "print(\"Handmade Graph\")\n",
    "print(handmadeGraph)\n",
    "\n",
    "\n",
    "nodes = np.arange(handmadeGraph.shape[0])\n",
    "\n",
    "def randomGraph(nodes):\n",
    "    m=max(nodes)+1\n",
    "    graph = dok_matrix((m,m),dtype=float32)\n",
    "    for n1 in nodes:\n",
    "        for n2 in nodes:\n",
    "            if(n1!=n2):\n",
    "                graph[n1,n2]=np.random.rand()\n",
    "    return graph\n",
    "print(\"Random Graph\")\n",
    "print(randomGraph(nodes))"
   ]
  },
  {
   "cell_type": "markdown",
   "metadata": {},
   "source": [
    "## Inference \n",
    "Generation de cascades"
   ]
  },
  {
   "cell_type": "code",
   "execution_count": 183,
   "metadata": {},
   "outputs": [],
   "source": [
    "\n",
    "def genCascade(graph,startNode,startTime=0):\n",
    "    ''' Receive graph and starting infected node generate a cascade \n",
    "        Args\n",
    "            graph(node to child representation)\n",
    "            cascade {node : time} \n",
    "    '''\n",
    "    cascade = {startNode : startTime}\n",
    "    lastInfected = [startNode]\n",
    "    infected_next = {}\n",
    "    time = startTime+1\n",
    "    while len(lastInfected)> 0:\n",
    "        for infected in lastInfected:\n",
    "            for (_,child),pct in graph[infected,:].items():\n",
    "                if (child not in cascade) and (child not in infected_next):\n",
    "                    if (np.random.rand()<pct):\n",
    "                        infected_next[child] = time\n",
    "        cascade.update(infected_next)\n",
    "        lastInfected = list(infected_next.keys())\n",
    "        infected_next = {}\n",
    "        time +=1\n",
    "        \n",
    "    return cascade"
   ]
  },
  {
   "cell_type": "code",
   "execution_count": 184,
   "metadata": {},
   "outputs": [
    {
     "name": "stdout",
     "output_type": "stream",
     "text": [
      "[{0: 0, 1: 1, 3: 2}, {0: 0, 1: 1, 2: 1, 4: 2}, {0: 0, 2: 1, 4: 2}]\n"
     ]
    }
   ],
   "source": [
    "nbCascades = 200\n",
    "cascades = [genCascade(handmadeGraph,0) for i in range(nbCascades)]\n",
    "pp.pprint(cascades[:3])"
   ]
  },
  {
   "cell_type": "markdown",
   "metadata": {},
   "source": [
    "## Independant cascades apprentissage\n"
   ]
  },
  {
   "cell_type": "markdown",
   "metadata": {},
   "source": [
    "### 2008 Saito\n",
    "Les temps d'infections contiguë <br>\n",
    "$D(i)$  all newly infected at time $i$  <br>\n",
    "$D = D(0) \\cup D(1) \\cup ... \\cup D(n)$\n",
    "#### Maximimum likelyhood expectation\n",
    "Etapes : \n",
    "1. On donne une première estimation des arêtes du graph : $k_{u,v}$ <br>\n",
    "- On calcule $P_{w}$ en fonction de $k_{u,v}$\n",
    "- On calcule par ML $k_{u,v}$ en fonction de $P_{w}$\n",
    "- Retour à l'étape 2 jusqu'à convergence\n",
    "\n",
    "#### likelyhood\n",
    "On peut vérifier que l'algorithme augmente sa vraisemblance à chaque étapes : <br>\n",
    "On définit la vraisemblance qu'un noeud soit infecté ou non pour un épisode de diffusion Ds donné :<br>\n",
    "$ P(v_t=t | D_s) = 1-\\prod_{u \\in Ds \\land\\\\ v_{t} = u_{t+1}}  1-\\theta_{u,v} $<br> \n",
    "$ P(v_t=\\infty | D_s) = \\prod_{u \\in Ds }  1-\\theta_{u,v} $<br>\n",
    "La vraisemblance d'une cascades c'est la probabilité que pour tous les noeuds du graphes : \n",
    "- Si le noeud fait partie de la cascade : qu'il ait été infecté par un de ses prédécesseur\n",
    "- Si le noeud ne fait pas partie de la cascade : qu'il n'ai jamais été infectés par les noeuds de la cascade\n",
    "<br>\n",
    "\n",
    "<br> Puis on calcule la vraisemblance d'un Episode Ds : \n",
    "\n",
    "$L(Ds; \\theta) =\\left[ \\prod_{v \\notin Ds} P(v_t = \\infty | D_s) \\right]* \n",
    "\\left[\\prod_{v \\in Ds} P(v_t = t | D_s)  \\right]$ <br>\n",
    "\n",
    "$L(Ds; \\theta) = \\left[ \\prod_{v \\notin Ds}1-\\prod_{u \\in Ds \\land\\\\ v_{t} = u_{t+1}}  1-\\theta_{u,v} \\right]* \n",
    "\\left[\\prod_{v \\in Ds} \\prod_{u \\in Ds }  1-\\theta_{u,v} \\right] $ <br>\n",
    "\n",
    "Expression de la log-likelyhood : <br>\n",
    "$L(Ds; \\theta) =\\left[ \\sum_{v \\notin Ds} log (P(v_t = \\infty | D_s)) \\right]+\n",
    "\\left[\\sum_{v \\in Ds} log (P(v_t = t | D_s))  \\right]$ <br>\n",
    "\n",
    "\n",
    "Donc pour l'ensemble des Epsiodes on a : <br>\n",
    "$ L(D,\\theta ) =\\sum_{Ds \\in D} L(Ds; \\theta) $ <br>\n",
    "\n"
   ]
  },
  {
   "cell_type": "code",
   "execution_count": 185,
   "metadata": {},
   "outputs": [
    {
     "name": "stdout",
     "output_type": "stream",
     "text": [
      "[{0: 0, 1: 1, 3: 2}, {0: 0, 1: 1, 2: 1, 4: 2}] \n",
      " [[[0], [1], [3]], [[0], [1, 2], [4]]]\n"
     ]
    }
   ],
   "source": [
    "def cascade_repr(cascade):\n",
    "    ''' Transforme une cascade en list ayant pour indice \n",
    "        le temps d'infection t et pour contenu une list contenant les noeuds infectés au temps t'''\n",
    "    \n",
    "    maxT  = max(cascade.values())+1\n",
    "    Ds = [[] for i in range(maxT)]\n",
    "    for (n,t) in cascade.items():\n",
    "        Ds[t].append(n)\n",
    "    return Ds\n",
    "D = [cascade_repr(c) for c in cascades]\n",
    "print(cascades[:2],'\\n',D[:2])"
   ]
  },
  {
   "cell_type": "code",
   "execution_count": 186,
   "metadata": {},
   "outputs": [],
   "source": [
    "def nodes_in_Ds(Ds):\n",
    "    uniques = []\n",
    "    for nodes in Ds : \n",
    "        for n in nodes : \n",
    "            uniques.append(n)\n",
    "    return uniques"
   ]
  },
  {
   "cell_type": "code",
   "execution_count": 187,
   "metadata": {},
   "outputs": [],
   "source": [
    "def P_sw(g,Ds,w):\n",
    "    '''Vraisemblanblance qu'un noeud w soit ou non infecté sachant la cascade Ds \n",
    "        et les paramètres du graphe '''\n",
    "    t = None\n",
    "    for i,nodes in enumerate(Ds):\n",
    "        if (w in nodes):\n",
    "            t = i\n",
    "    if (t == 0): # si le noeud est le premier\n",
    "        return 1\n",
    "    if (t is None): # si le noeud n'est pas dans l'episode de diffusion\n",
    "        return P_NotInfected_sw(g,Ds,w)\n",
    "    else :  # si le noeud est dans l'épisode de diffusion\n",
    "        return P_Infected_sw(g,Ds,w,t)\n",
    "\n",
    "def P_Infected_sw(g,Ds,w,t):\n",
    "    ''' Vraisemblance de l'infection positive d un noeud à l'étape t sachant le graphe '''\n",
    "    return 1 - np.prod ([1-g[parent,w] for parent in Ds[t-1]])\n",
    "\n",
    "\n",
    "def P_NotInfected_sw(g,Ds,w):\n",
    "    ''' Vraisemblance Qu'un noeud ne soit pas infecté dans un epsiode Ds sachant le \n",
    "        graphe'''\n",
    "    return np.prod([1-g[parent,w] for parent in nodes_in_Ds(Ds)])"
   ]
  },
  {
   "cell_type": "code",
   "execution_count": 188,
   "metadata": {},
   "outputs": [],
   "source": [
    "def Expectation(g,D):\n",
    "    ''' Calcule l'ensemble des P_ws \n",
    "        P_ws[idD][node]->proba'''\n",
    "    p_sw = [{n:P_sw(g,Ds,n) for n in nodes_in_Ds(Ds)} for Ds in D]\n",
    "    return p_sw"
   ]
  },
  {
   "cell_type": "code",
   "execution_count": 189,
   "metadata": {},
   "outputs": [],
   "source": [
    "def D_plus_uv_id(D,u,v):\n",
    "    ''' pour chaque couples u,v renvoit l'ensemble des \n",
    "    Ds (episode infections) ou u precede v'''\n",
    "    D_plus = []\n",
    "    for i,Ds in enumerate(D): \n",
    "        for t in range(1,len(Ds)):\n",
    "            if (u in Ds[t-1] and v in Ds[t]):\n",
    "                D_plus.append(i)\n",
    "                break\n",
    "    return D_plus\n",
    "\n",
    "def D_minus_uv_id(D,u,v):\n",
    "    '''Pour chaque couple u,v renvoit l'ensemble des \n",
    "    Ds(episode infection) ou u est present mais v ne le suit pas'''\n",
    "    D_minus_id=[]\n",
    "    for s,Ds in enumerate(D) : \n",
    "        for t in range(1,len(Ds)):\n",
    "            if (u in Ds[t-1] and v not in Ds[t]):\n",
    "                D_minus_id.append(s)\n",
    "                break\n",
    "        if (u in Ds[-1]):\n",
    "            D_minus_id.append(s)\n",
    "    return D_minus_id\n",
    "\n",
    "def D_minus_uv_len(D,u,v):\n",
    "    '''Pour chaque couple u,v renvoit le cardinal de l'ensemble des \n",
    "    Ds(episode infection) ou u est present mais v ne le suit pas'''\n",
    "    D_minus_len=0\n",
    "    for Ds in D : \n",
    "        for t in range(1,len(Ds)):\n",
    "            if (u in Ds[t-1] and v not in Ds[t]):\n",
    "                D_minus_len+=1\n",
    "                break\n",
    "        if (u in Ds[-1]):\n",
    "            D_minus_len+=1\n",
    "    return D_minus_len"
   ]
  },
  {
   "cell_type": "code",
   "execution_count": 190,
   "metadata": {},
   "outputs": [],
   "source": [
    "def llikelyhood_Ds(g,Ds):\n",
    "    '''Calcule la log vraisemblance d'une cascade selon le graph '''\n",
    "    ll = 0\n",
    "    for v,u in g.keys() :\n",
    "        ll += np.log(P_sw(g,Ds,u))\n",
    "    return ll\n",
    "\n",
    "def llikelyhood(g,D):\n",
    "    total = 0\n",
    "    for Ds in D : \n",
    "        total +=llikelyhood_Ds(g,Ds)\n",
    "    return total\n",
    "    return sum([llikelyhood_Ds(g,Ds) for Ds in D])"
   ]
  },
  {
   "cell_type": "code",
   "execution_count": 191,
   "metadata": {},
   "outputs": [],
   "source": [
    "def Maximisation_uv(g,D_plus_id,Dminus_len,p_sw,u,v):\n",
    "    '''Calcule les nouveaux paramètre pour l'arete u,v '''\n",
    "    if ((len(D_plus_id[u][v])+Dminus_len[u][v]) == 0):\n",
    "        #raise Exception(f\"{u}-{v} Division zero\")\n",
    "        return 0\n",
    "    return (1/(len(D_plus_id[u][v])+Dminus_len[u][v])) *sum([g[u,v]/p_sw[i][v] for i in D_plus_id[u][v]])\n",
    "\n",
    "\n",
    "def Maximisation(g,D_plus_id,Dminus_len,p_sw):\n",
    "    ''' Calcule les nouveaux paramètres pour le graphe'''\n",
    "    gprime = dok_matrix(g.shape,dtype=float32)\n",
    "    for u,v in g.keys():\n",
    "        if u != v:\n",
    "            gprime[u,v] = Maximisation_uv(g,D_plus_id,Dminus_len,p_sw,u,v)\n",
    "    return gprime\n"
   ]
  },
  {
   "cell_type": "code",
   "execution_count": 192,
   "metadata": {},
   "outputs": [],
   "source": [
    "def remove_edges(g,nodes,D_plus):\n",
    "    ''' Retire en place tous les arêtes (u,v) ou il n'existe pas de cascade ou \n",
    "        u précède v. (=>on ne peut rien dire sur les probabilité que u infecte v)\n",
    "    '''\n",
    "    for n1 in nodes : \n",
    "        for n2 in nodes : \n",
    "            if len(D_plus[n1][n2]) == 0:\n",
    "                g[n1,n2] = 0"
   ]
  },
  {
   "cell_type": "code",
   "execution_count": 193,
   "metadata": {},
   "outputs": [],
   "source": [
    "def MSE(g1,g2):\n",
    "    '''calcule la mean square error entre 2 graphes '''\n",
    "    assert g1.shape == g2.shape\n",
    "    return np.sum((g1-g2).power(2))"
   ]
  },
  {
   "cell_type": "code",
   "execution_count": 194,
   "metadata": {},
   "outputs": [
    {
     "name": "stdout",
     "output_type": "stream",
     "text": [
      "{0, 1, 2, 3, 4}\n",
      "  (0, 1)\t0.59\n",
      "  (0, 2)\t0.515\n",
      "  (1, 3)\t0.5356452\n",
      "  (1, 4)\t0.00023212147\n",
      "  (2, 3)\t0.45048556\n",
      "  (2, 4)\t0.6212585\n"
     ]
    }
   ],
   "source": [
    "def EM_IC(D,nodes,threshold = 10**(-7),debug = False):\n",
    "        # initalisation\n",
    "    g = randomGraph(nodes)    \n",
    "    p_sw = None\n",
    "    D_plus_id =   {v:{u:D_plus_uv_id(D,v,u) for u in nodes} for v in nodes}\n",
    "    D_minus_len = {v:{u:D_minus_uv_len(D,v,u)for u in nodes} for v in nodes}\n",
    "    remove_edges(g,nodes,D_plus_id)\n",
    "    \n",
    "    if debug:\n",
    "        ll = -float(\"inf\") # ll : loglikelyhood\n",
    "    \n",
    "    loop = True\n",
    "    while loop:\n",
    "        p_sw = Expectation(g,D)\n",
    "        next_g = Maximisation(g,D_plus_id,D_minus_len,p_sw)\n",
    "        \n",
    "        loop = MSE(g,next_g) > threshold\n",
    "        g = next_g\n",
    "        \n",
    "        if debug : \n",
    "            new_ll = llikelyhood(g,D)\n",
    "            if new_ll < ll : \n",
    "                print(f\"Likelyhood Error : descreasing : from {ll} to {new_ll}\")\n",
    "            ll = new_ll\n",
    "            \n",
    "    return g\n",
    "\n",
    "nodes = set()\n",
    "for c in cascades:\n",
    "    nodes.update(c.keys())\n",
    "print(nodes)\n",
    "\n",
    "D = [cascade_repr(c) for c in cascades]\n",
    "finalGraph = EM_IC(D,nodes,debug=True)\n",
    "print(finalGraph)"
   ]
  },
  {
   "cell_type": "markdown",
   "metadata": {},
   "source": [
    "### Methode 2\n",
    "Les temps d'infections non contiguë : \n",
    "Un noeud peut désorais être infecté non seulement par ceux qui ont été infecté<br>\n",
    "On doit alors redéfinir la likelyhood : <br>\n",
    "$ P(v_t=t | D_s) = 1-\\prod_{u \\in Ds \\land\\\\ v_{t} < u_{t}}  1-\\theta_{u,v} $<br> \n",
    "$ P(v_t=\\infty | D_s) = \\prod_{u \\in Ds }  1-\\theta_{u,v} $<br>\n",
    "$L(Ds; \\theta) =\\left[ \\prod_{v \\notin Ds} P(v_t = \\infty | D_s) \\right]* \n",
    "\\left[\\prod_{v \\in Ds} P(v_t = t | D_s)  \\right]$ <br>\n"
   ]
  },
  {
   "cell_type": "code",
   "execution_count": 195,
   "metadata": {},
   "outputs": [],
   "source": [
    "def P_sw_not_contiguous(g,Ds,w):\n",
    "    ''' Vraisemblance de l infection d un noeud sachant le graphe \n",
    "    et les tous noeuds précedemment activés (tps infection non contigue) '''\n",
    "    not_activated = 1\n",
    "    t = None\n",
    "    for i,nodes in enumerate(Ds):\n",
    "        if (w in nodes):\n",
    "            t = i\n",
    "    if (t == 0): # si le noeud est le premier\n",
    "        return 1\n",
    "    if (t is None): # si le noeud n'est pas dans l'episode de diffusion\n",
    "        return P_NotInfected_sw(g,Ds,w)\n",
    "    else :  # si le noeud est dans l'épisode de diffusion        \n",
    "        return P_sw_infected_not_contiguous(g,Ds,w,t)\n",
    "\n",
    "def P_sw_infected_not_contiguous(g,Ds,w,t):\n",
    "    preceding_nodes = [] # on regroupe les noeuds des épisodes précedents\n",
    "    for nodes in Ds[:t]:\n",
    "        for n in nodes : \n",
    "            preceding_nodes.append(n)\n",
    "        \n",
    "    return 1 - np.prod ([1-g[parent,w] for parent in preceding_nodes])"
   ]
  },
  {
   "cell_type": "code",
   "execution_count": 196,
   "metadata": {},
   "outputs": [],
   "source": [
    "def llikelyhood_Ds_notContiguous(g,Ds):\n",
    "    '''Calcule la log vraisemblance d'une cascade selon le graph '''\n",
    "    ll = 0\n",
    "    for v,u in g.keys() :\n",
    "        ll += np.log(P_sw_not_contiguous(g,Ds,u))\n",
    "    return ll\n",
    "\n",
    "def llikelyhood_notContiguous(g,D):\n",
    "    total = 0\n",
    "    for Ds in D : \n",
    "        total +=llikelyhood_Ds(g,Ds)\n",
    "    return total\n",
    "    return sum([llikelyhood_Ds(g,Ds) for Ds in D])"
   ]
  },
  {
   "cell_type": "code",
   "execution_count": 197,
   "metadata": {},
   "outputs": [],
   "source": [
    "def Expectation2(g,D):\n",
    "    ''' Calcule l'ensemble des P_ws \n",
    "        P_ws[idD][node]->proba'''\n",
    "    p_sw = [{n:P_sw_not_contiguous(g,Ds,n) for n in nodes_in_Ds(Ds)} for Ds in D]\n",
    "    return p_sw"
   ]
  },
  {
   "cell_type": "code",
   "execution_count": 198,
   "metadata": {},
   "outputs": [],
   "source": [
    "def D_plus_uv_id2(D,u,v):\n",
    "    ''' Pour chaque couples u,v renvoit l'ensemble des \n",
    "        Ds (episode infections) ou t_u < t_v'''\n",
    "    D_plus = []\n",
    "    \n",
    "    for i,Ds in enumerate(D) : \n",
    "        preceding_nodes = []\n",
    "        for t in range(0,len(Ds)):\n",
    "            if (v in Ds[t]):\n",
    "                if (u in preceding_nodes):\n",
    "                    D_plus.append(i)\n",
    "                    break\n",
    "            else : \n",
    "                preceding_nodes +=Ds[t]\n",
    "    return D_plus\n",
    "\n",
    "def D_minus_uv2_len(D,u,v):\n",
    "    '''Pour chaque couple u,v renvoit l'ensemble des \n",
    "    Ds(episode infection) ou u est present et non(t_u < t_v)'''\n",
    "    D_minus_len = 0\n",
    "    for Ds in D : \n",
    "        u_in_Ds = False\n",
    "        v_in_Ds = False\n",
    "        for t in range(0,len(Ds)):\n",
    "            if (u in Ds[t]):\n",
    "                u_in_Ds = True\n",
    "            if (u_in_Ds and v in Ds[t]):\n",
    "                v_in_Ds = True\n",
    "                break\n",
    "        if (u_in_Ds and not v_in_Ds):\n",
    "            D_minus_len+=1\n",
    "    return D_minus_len"
   ]
  },
  {
   "cell_type": "code",
   "execution_count": 206,
   "metadata": {},
   "outputs": [
    {
     "name": "stdout",
     "output_type": "stream",
     "text": [
      "  (0, 1)\t0.59\n",
      "  (0, 2)\t0.515\n",
      "  (0, 3)\t0.31027412\n",
      "  (0, 4)\t0.2654719\n",
      "  (1, 3)\t0.50248927\n",
      "  (1, 4)\t0.31386676\n",
      "  (2, 3)\t0.24735372\n",
      "  (2, 4)\t0.3194314\n"
     ]
    }
   ],
   "source": [
    "def EM_IC_2(D,nodes,threshold=10**(-7), debug=False):\n",
    "    g = randomGraph(nodes)    \n",
    "    p_sw = None\n",
    "    D_plus_id =   {v:{u:D_plus_uv_id2(D,v,u) for u in nodes} for v in nodes}\n",
    "    D_minus_len = {v:{u:D_minus_uv2_len(D,v,u)for u in nodes} for v in nodes}\n",
    "    remove_edges(g,nodes,D_plus_id)\n",
    "\n",
    "    if (debug):\n",
    "        ll = -float('inf')\n",
    "    \n",
    "    loop = True\n",
    "    while loop:\n",
    "        p_sw = Expectation2(g,D)\n",
    "        g_next = Maximisation(g,D_plus_id,D_minus_len,p_sw)\n",
    "        \n",
    "        loop = MSE(g,g_next)<threshold\n",
    "        g = g_next\n",
    "        \n",
    "        if debug : \n",
    "            new_ll = llikelyhood_notContiguous(g,D)\n",
    "            if new_ll < ll : \n",
    "                print(f\"Likelyhood Error : descreasing : from {ll} to {new_ll}\")\n",
    "            ll = new_ll\n",
    "\n",
    "    return g\n",
    "\n",
    "D = [cascade_repr(c) for c in cascades]\n",
    "finalGraph = EM_IC_2(D,nodes,debug=True)\n",
    "print(finalGraph)"
   ]
  },
  {
   "cell_type": "markdown",
   "metadata": {},
   "source": [
    "## Evaluation"
   ]
  },
  {
   "cell_type": "markdown",
   "metadata": {},
   "source": [
    "On va évaluer les modèles par MeanAveragePrecision (MAP): <br>\n",
    "On peut caculer $AP$ pour un épisode ($Ds$) en particulier : <br><br>\n",
    "$ AP(Ds) =  \\sum_{i=1}^{|U^{Ds}|} \\frac{ |\\{ U_1^{Ds},...,U_i^{Ds} \\} \\cap Ds |}{i}  dx$ <br>\n",
    "$ AP(Ds) = \\sum_{i=1}^{|U^{Ds}|} \\frac{TruePositive}{TruePositive+FalseNegative}dx$ <br><br>\n",
    "$ dx = recall(i) -recall(i-1) $<br>\n",
    "<br>\n",
    "$ MAP = \\frac{1}{D}\\sum_{Ds\\in |D|} AP(Ds)$"
   ]
  },
  {
   "cell_type": "markdown",
   "metadata": {},
   "source": [
    "On va d'abord calculer les probabilité d'infection d'un noeud connaissant la source \n",
    "par génération d'épisodes : "
   ]
  },
  {
   "cell_type": "code",
   "execution_count": 207,
   "metadata": {},
   "outputs": [],
   "source": [
    "def Pws_gs(graph,source,nbEpisode=100):\n",
    "    ''' Calcule la probabilité qu'un noeud soit infecté connaissant \n",
    "        une source et un graph de diffusion\n",
    "        On calcule par moyenne sur echantionnage d'episodes d'infections '''\n",
    "    proba_infected = {n:0 for n in range(graph.shape[0])}\n",
    "    for i in range(nbEpisode):\n",
    "        c = genCascade(graph,source)\n",
    "        for node in c : \n",
    "            proba_infected[node]+=1/nbEpisode\n",
    "    return proba_infected"
   ]
  },
  {
   "cell_type": "code",
   "execution_count": 208,
   "metadata": {},
   "outputs": [],
   "source": [
    "def AP(Ds,graph):\n",
    "    '''Average Precision pour un episode Ds '''\n",
    "    pws_gs =Pws_gs(graph,Ds[0][0])\n",
    "    U_d = sorted(pws_gs,key=pws_gs.get,reverse=True) # sort par ordre decroissant\n",
    "    DsNodeSet = set(nodes_in_Ds(Ds)) # noeuds faisant partie de l'episode d'infection Ds\n",
    "    ap =0\n",
    "    for i,node in enumerate(U_d) : \n",
    "        if (node in DsNodeSet):\n",
    "            tp = len(DsNodeSet.intersection(U_d[:(i+1)])) # true positive\n",
    "            ap+= tp/(i+1) # precision = tp/(tp+fp)\n",
    "    ap/= len(DsNodeSet)\n",
    "    return ap\n",
    "\n",
    "def MAP(D,graph):\n",
    "    return sum([AP(Ds,graph)for Ds in D])/len(D)    "
   ]
  },
  {
   "cell_type": "code",
   "execution_count": 209,
   "metadata": {},
   "outputs": [
    {
     "name": "stdout",
     "output_type": "stream",
     "text": [
      "original  graph MAP score :  0.9361875000000001\n",
      "inference graph MAP score :  0.9292430555555556\n"
     ]
    }
   ],
   "source": [
    "print(\"original  graph MAP score : \",MAP(D,handmadeGraph))\n",
    "print(\"inference graph MAP score : \",MAP(D,finalGraph))"
   ]
  },
  {
   "cell_type": "markdown",
   "metadata": {},
   "source": [
    "# Test avec matrices Sparses : "
   ]
  },
  {
   "cell_type": "code",
   "execution_count": 210,
   "metadata": {},
   "outputs": [],
   "source": [
    "def GenerateData(nbNodes,nbCascades,density=0.1):\n",
    "    ''' Genere un graph aléatoire et des données '''\n",
    "    sparseGraph = dok_matrix(random(nbNodes,nbNodes,density=density))\n",
    "    cascades = []\n",
    "    for i in range(nbCascades):\n",
    "        startNode = np.random.randint(nbNodes)\n",
    "        cascades.append(genCascade(sparseGraph,startNode))\n",
    "        # cascade representation : \n",
    "    D = [cascade_repr(c) for c in cascades]\n",
    "    return sparseGraph,D\n",
    "\n",
    "def ModelScore(D,trainD,testD):\n",
    "    ''' Apprends un modele sur ensemble de trainD \n",
    "        et renvoi le résultat sur un ensemble de testD'''\n",
    "    nodes = set()\n",
    "    for Ds in D:\n",
    "        for Ds_t in Ds : \n",
    "            nodes.update(set(Ds_t))\n",
    "    predictedGraph = EM_IC_2(trainD,nodes)\n",
    "    return MAP(testD,predictedGraph)"
   ]
  },
  {
   "cell_type": "code",
   "execution_count": 212,
   "metadata": {},
   "outputs": [
    {
     "name": "stdout",
     "output_type": "stream",
     "text": [
      "original  graph MAP score :  0.9611435751823965\n",
      "predictedGraph MAP score :  0.812665544932929\n"
     ]
    }
   ],
   "source": [
    "# Params : \n",
    "nbNodes = 200\n",
    "nbCascades = 400\n",
    "originalGraph,D = GenerateData(nbNodes,nbCascades,0.007)\n",
    "trainD,testD = D[int(nbCascades/2):],D[:int(nbCascades/2)]\n",
    "predictedScore = ModelScore(D,trainD,testD)\n",
    "originalScore = MAP(D,originalGraph)\n",
    "print(\"original  graph MAP score : \",originalScore)\n",
    "print(\"predictedGraph MAP score : \",predictedScore)"
   ]
  },
  {
   "cell_type": "code",
   "execution_count": null,
   "metadata": {},
   "outputs": [],
   "source": []
  }
 ],
 "metadata": {
  "kernelspec": {
   "display_name": "Python 3",
   "language": "python",
   "name": "python3"
  },
  "language_info": {
   "codemirror_mode": {
    "name": "ipython",
    "version": 3
   },
   "file_extension": ".py",
   "mimetype": "text/x-python",
   "name": "python",
   "nbconvert_exporter": "python",
   "pygments_lexer": "ipython3",
   "version": "3.7.4"
  }
 },
 "nbformat": 4,
 "nbformat_minor": 2
}
